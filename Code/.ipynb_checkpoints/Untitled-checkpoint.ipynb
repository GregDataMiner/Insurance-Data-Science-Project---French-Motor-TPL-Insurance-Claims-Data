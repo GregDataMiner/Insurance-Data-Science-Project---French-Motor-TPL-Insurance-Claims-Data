{
 "cells": [
  {
   "cell_type": "markdown",
   "id": "39fd6705-3e3f-480e-8e96-e5c3da455583",
   "metadata": {},
   "source": [
    "# Projet de réassurance"
   ]
  },
  {
   "cell_type": "code",
   "execution_count": null,
   "id": "038023d9-423d-4bba-9c0c-c907a04ea56a",
   "metadata": {},
   "outputs": [],
   "source": [
    "\n",
    "import numpy as np # linear algebra\n",
    "import pandas as pd # data processing, CSV file I/O (e.g. pd.read_csv)\n",
    "import matplotlib.pyplot as plt # graphs/plotting\n",
    "\n",
    "MTPL_filepath1 = \"C:/Users/grego/Documents/USPN M2/REASSURANCE/Projet/freMTPLfreq.xlsx\"\n",
    "MTPL_filepath2 = \"C:/Users/grego/Documents/USPN M2/REASSURANCE/Projet/freMTPLsev.xlsx\"\n",
    "\n",
    "print(\"Now loading MTPLfreq.\")\n",
    "MTPLfreq = pd.read_excel(MTPL_filepath1)\n",
    "print(\"MTPLfreq was loaded./n\")\n",
    "\n",
    "print(\"Now loading MTPLsev.\")\n",
    "MTPLsev = pd.read_excel(MTPL_filepath2)\n",
    "print(\"MTPLsev was loaded./n\")"
   ]
  },
  {
   "cell_type": "code",
   "execution_count": null,
   "id": "d4c1ef30-b1bb-41a1-b44d-bc48b6bba30b",
   "metadata": {},
   "outputs": [],
   "source": []
  },
  {
   "cell_type": "markdown",
   "id": "d3ad91f4-b289-484f-bd45-a9b4e089f42f",
   "metadata": {},
   "source": [
    "## Areas for Improvement in the Project\n",
    "### Approach to Claim Severity Prediction\n",
    "\n",
    " - Currently, the project predicts the total loss amount for each policyholder without modeling the average loss per claim.\n",
    " - Derive additional features such as the maximum and minimum claim amounts per policyholder to better model severity.\n",
    " - The project also uses the actual number of claims from the dataset instead of predicting claim frequency first.\n",
    " - Implement the full frequency-severity approach by: Predicting the number of claims using a Poisson regression. Predicting the average claim severity for policyholders with non-zero claims using a Gamma-based GLM.\n",
    "\n",
    "### Model Training and Testing\n",
    "Models were trained and tested only once using a basic split (train/test).\n",
    "Perform multiple training iterations with cross-validation to achieve a more robust fit to the data.\n",
    "\n",
    "### Data Preprocessing\n",
    "Categorical encoding methods may not be optimal. For example, one-hot encoding was applied to high-cardinality columns like Region, which is not recommended.\n",
    "Explore alternatives such as target encoding or embedding layers to handle high-cardinality features more efficiently.\n",
    "\n",
    "### Hyperparameter Optimization\n",
    "The current approach involves optimizing one hyperparameter at a time while keeping others constant.\n",
    "Implement GridSearchCV to perform comprehensive hyperparameter optimization, iterating over a grid of possible values to find the optimal combination.\n",
    "Example for TweedieRegressor:\n",
    "\n",
    "### Feature Selection\n",
    "No strict feature selection was performed, increasing the risk of overfitting.\n",
    "Use Lasso (L1 regularization) to reduce the number of features by setting higher values for the alpha parameter.\n",
    "This would require additional hyperparameter tuning to balance feature reduction with model performance.\n",
    "\n",
    "### For the next steps I am currently working on implementing these improvements. \n",
    "\n",
    "Specifically, I am enhancing the frequency-severity approach by predicting both claim frequency and severity.\n",
    "Applying cross-validation to improve model robustness.\n",
    "Exploring hyperparameter optimization using GridSearchCV.\n",
    "Refining data preprocessing and feature selection to reduce model complexity and overfitting.\n",
    "These changes aim to provide more accurate and generalizable predictions for actuarial pricing models."
   ]
  }
 ],
 "metadata": {
  "kernelspec": {
   "display_name": "Python 3 (ipykernel)",
   "language": "python",
   "name": "python3"
  },
  "language_info": {
   "codemirror_mode": {
    "name": "ipython",
    "version": 3
   },
   "file_extension": ".py",
   "mimetype": "text/x-python",
   "name": "python",
   "nbconvert_exporter": "python",
   "pygments_lexer": "ipython3",
   "version": "3.11.5"
  }
 },
 "nbformat": 4,
 "nbformat_minor": 5
}
